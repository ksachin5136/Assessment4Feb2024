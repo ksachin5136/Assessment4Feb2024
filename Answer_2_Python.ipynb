{
 "cells": [
  {
   "cell_type": "markdown",
   "id": "3eead740",
   "metadata": {},
   "source": [
    "# Answer 2 Python"
   ]
  },
  {
   "cell_type": "markdown",
   "id": "fff92cca",
   "metadata": {},
   "source": [
    "\n",
    "The code takes a string as input, counts the frequency of each word, and then finds the length of the longest word with the highest frequency. It first checks if the input string is empty; if so, it returns 0. Then, it converts the string to lowercase, splits it into words, and counts the frequency of each word. Afterward, it identifies the highest frequency and, among words with that frequency, determines the length of the longest one. The final result is the length of the longest word with the highest frequency in the input string."
   ]
  },
  {
   "cell_type": "code",
   "execution_count": 1,
   "id": "9f07cb80",
   "metadata": {},
   "outputs": [],
   "source": [
    "def longest_word_with_highest_frequency(text):\n",
    "    if not text:\n",
    "        return 0\n",
    "\n",
    "    words = text.lower().split()\n",
    "    word_counts = {}\n",
    "\n",
    "    # Count word frequencies\n",
    "    for word in words:\n",
    "        word_counts[word] = word_counts.get(word, 0) + 1\n",
    "\n",
    "    # Find the highest frequency\n",
    "    max_frequency = max(word_counts.values(), default=0)\n",
    "\n",
    "    # Find the longest word with the highest frequency\n",
    "    longest_word = \"\"\n",
    "    for word, count in word_counts.items():\n",
    "        if count == max_frequency and len(word) > len(longest_word):\n",
    "            longest_word = word\n",
    "\n",
    "    return len(longest_word)"
   ]
  },
  {
   "cell_type": "code",
   "execution_count": 2,
   "id": "37d456a9",
   "metadata": {},
   "outputs": [
    {
     "name": "stdout",
     "output_type": "stream",
     "text": [
      "Length of highest-frequency word: 5\n"
     ]
    }
   ],
   "source": [
    "# Example usage\n",
    "text = \"write write write all the number from from from 1 to 100\"\n",
    "longest_word_length = longest_word_with_highest_frequency(text)\n",
    "print(f\"Length of highest-frequency word: {longest_word_length}\")   "
   ]
  },
  {
   "cell_type": "code",
   "execution_count": 3,
   "id": "9bda0225",
   "metadata": {},
   "outputs": [
    {
     "name": "stdout",
     "output_type": "stream",
     "text": [
      "Length of word with highest overall frequency: 4\n"
     ]
    }
   ],
   "source": [
    "# Example usage\n",
    "text = \"This is a string with repeated words like this and this\"\n",
    "longest_word_length = longest_word_with_highest_frequency(text)\n",
    "print(f\"Length of word with highest overall frequency: {longest_word_length}\")   "
   ]
  },
  {
   "cell_type": "code",
   "execution_count": null,
   "id": "231b7f94",
   "metadata": {},
   "outputs": [],
   "source": []
  }
 ],
 "metadata": {
  "kernelspec": {
   "display_name": "Python 3 (ipykernel)",
   "language": "python",
   "name": "python3"
  },
  "language_info": {
   "codemirror_mode": {
    "name": "ipython",
    "version": 3
   },
   "file_extension": ".py",
   "mimetype": "text/x-python",
   "name": "python",
   "nbconvert_exporter": "python",
   "pygments_lexer": "ipython3",
   "version": "3.10.12"
  },
  "toc": {
   "base_numbering": 1,
   "nav_menu": {},
   "number_sections": true,
   "sideBar": true,
   "skip_h1_title": false,
   "title_cell": "Table of Contents",
   "title_sidebar": "Contents",
   "toc_cell": false,
   "toc_position": {
    "height": "calc(100% - 180px)",
    "left": "10px",
    "top": "150px",
    "width": "322.542px"
   },
   "toc_section_display": true,
   "toc_window_display": true
  }
 },
 "nbformat": 4,
 "nbformat_minor": 5
}

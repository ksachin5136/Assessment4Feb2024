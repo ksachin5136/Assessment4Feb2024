{
 "cells": [
  {
   "cell_type": "markdown",
   "id": "9add5512",
   "metadata": {},
   "source": [
    "# Answer 1 Python"
   ]
  },
  {
   "cell_type": "markdown",
   "id": "7db3d668",
   "metadata": {},
   "source": [
    "## Implementation "
   ]
  },
  {
   "cell_type": "code",
   "execution_count": 3,
   "id": "30c2c79e",
   "metadata": {},
   "outputs": [],
   "source": [
    "import numpy as np"
   ]
  },
  {
   "cell_type": "code",
   "execution_count": 24,
   "id": "eeaacd20",
   "metadata": {},
   "outputs": [],
   "source": [
    "def FindInMatrix(inputmatrix, targetvalue):\n",
    "    NumOfRows = len(inputmatrix)\n",
    "    NumOfCols = len(inputmatrix[0])\n",
    "\n",
    "    startIndex = 0\n",
    "    endIndex = NumOfRows * NumOfCols - 1\n",
    "    \n",
    "    while startIndex <= endIndex:\n",
    "        mid = (startIndex + endIndex) // 2\n",
    "        row = mid // NumOfCols\n",
    "        col = mid % NumOfCols\n",
    "        \n",
    "        if inputmatrix[row][col] == targetvalue:\n",
    "            return True\n",
    "        elif inputmatrix[row][col] > targetvalue:\n",
    "            # Search in the previous row or earlier columns in the current row\n",
    "            endIndex = mid - 1\n",
    "        else:\n",
    "            # Search in the next row or later columns in the current row\n",
    "            startIndex = mid + 1\n",
    "    return False"
   ]
  },
  {
   "cell_type": "markdown",
   "id": "dcaf19c0",
   "metadata": {},
   "source": [
    "Explanation : \n",
    "- 1. The core of the algorithm is a **binary search**, which efficiently narrows down the search space by repeatedly halving it until the target is found or eliminated.\n",
    "- 2. Here i have modified the standard binary search to adapt to the fact that each row is sorted in descending order. It uses row and column information derived from the middle index to access the correct element during each iteration.\n",
    "- 3. The algorithm takes advantage of the additional properties of the matrix:\n",
    "   * Sorted rows: This allows efficient elimination of half the search space based on comparison with the target.\n",
    "   * Increasing first elements: This guides the search direction by eliminating entire rows that cannot contain the target based on their first element's value.\n",
    "\n",
    "So, We can call it a modified binary search for a sorted row matrix or a hybrid binary search leveraging matrix properties."
   ]
  },
  {
   "cell_type": "markdown",
   "id": "d1b50de3",
   "metadata": {},
   "source": [
    "## Lets Test"
   ]
  },
  {
   "cell_type": "code",
   "execution_count": 25,
   "id": "dd3b5154",
   "metadata": {},
   "outputs": [],
   "source": [
    "matrix = np.array([[1, 3, 5, 7], [10, 11, 16, 20], [23, 30, 34, 60]])"
   ]
  },
  {
   "cell_type": "code",
   "execution_count": 26,
   "id": "a75e88b6",
   "metadata": {},
   "outputs": [
    {
     "data": {
      "text/plain": [
       "array([[ 1,  3,  5,  7],\n",
       "       [10, 11, 16, 20],\n",
       "       [23, 30, 34, 60]])"
      ]
     },
     "execution_count": 26,
     "metadata": {},
     "output_type": "execute_result"
    }
   ],
   "source": [
    "matrix"
   ]
  },
  {
   "cell_type": "code",
   "execution_count": 27,
   "id": "036e46d4",
   "metadata": {},
   "outputs": [
    {
     "data": {
      "text/plain": [
       "(3, 4)"
      ]
     },
     "execution_count": 27,
     "metadata": {},
     "output_type": "execute_result"
    }
   ],
   "source": [
    "matrix.shape"
   ]
  },
  {
   "cell_type": "code",
   "execution_count": 28,
   "id": "e8d22b38",
   "metadata": {},
   "outputs": [
    {
     "data": {
      "text/plain": [
       "True"
      ]
     },
     "execution_count": 28,
     "metadata": {},
     "output_type": "execute_result"
    }
   ],
   "source": [
    "FindInMatrix(matrix, 11)"
   ]
  },
  {
   "cell_type": "code",
   "execution_count": 29,
   "id": "4e109200",
   "metadata": {},
   "outputs": [
    {
     "data": {
      "text/plain": [
       "False"
      ]
     },
     "execution_count": 29,
     "metadata": {},
     "output_type": "execute_result"
    }
   ],
   "source": [
    "FindInMatrix(matrix, 88)"
   ]
  },
  {
   "cell_type": "markdown",
   "id": "88e665d6",
   "metadata": {},
   "source": [
    "# Answer 2 Python"
   ]
  },
  {
   "cell_type": "code",
   "execution_count": 77,
   "id": "64dc7bf3",
   "metadata": {},
   "outputs": [],
   "source": [
    "def longest_word_with_highest_frequency(text):\n",
    "    if not text:\n",
    "        return 0\n",
    "\n",
    "    words = text.lower().split()\n",
    "    word_counts = {}\n",
    "\n",
    "    # Count word frequencies\n",
    "    for word in words:\n",
    "        word_counts[word] = word_counts.get(word, 0) + 1\n",
    "\n",
    "    # Find the highest frequency\n",
    "    max_frequency = max(word_counts.values(), default=0)\n",
    "\n",
    "    # Find the longest word with the highest frequency\n",
    "    longest_word = \"\"\n",
    "    for word, count in word_counts.items():\n",
    "        if count == max_frequency and len(word) > len(longest_word):\n",
    "            longest_word = word\n",
    "\n",
    "    return len(longest_word)"
   ]
  },
  {
   "cell_type": "code",
   "execution_count": 79,
   "id": "a18e443c",
   "metadata": {},
   "outputs": [
    {
     "name": "stdout",
     "output_type": "stream",
     "text": [
      "Length of highest-frequency word: 5\n"
     ]
    }
   ],
   "source": [
    "# Example usage\n",
    "text = \"write write write all the number from from from 1 to 100\"\n",
    "longest_word_length = longest_word_with_highest_frequency(text)\n",
    "print(f\"Length of highest-frequency word: {longest_word_length}\")  # Output: 6"
   ]
  },
  {
   "cell_type": "code",
   "execution_count": null,
   "id": "882ef913",
   "metadata": {},
   "outputs": [],
   "source": []
  }
 ],
 "metadata": {
  "kernelspec": {
   "display_name": "Python 3 (ipykernel)",
   "language": "python",
   "name": "python3"
  },
  "language_info": {
   "codemirror_mode": {
    "name": "ipython",
    "version": 3
   },
   "file_extension": ".py",
   "mimetype": "text/x-python",
   "name": "python",
   "nbconvert_exporter": "python",
   "pygments_lexer": "ipython3",
   "version": "3.10.12"
  },
  "toc": {
   "base_numbering": 1,
   "nav_menu": {},
   "number_sections": true,
   "sideBar": true,
   "skip_h1_title": false,
   "title_cell": "Table of Contents",
   "title_sidebar": "Contents",
   "toc_cell": false,
   "toc_position": {
    "height": "calc(100% - 180px)",
    "left": "10px",
    "top": "150px",
    "width": "322.542px"
   },
   "toc_section_display": true,
   "toc_window_display": true
  }
 },
 "nbformat": 4,
 "nbformat_minor": 5
}
